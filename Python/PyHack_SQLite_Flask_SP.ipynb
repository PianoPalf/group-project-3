{
 "cells": [
  {
   "cell_type": "code",
   "execution_count": 1,
   "metadata": {},
   "outputs": [],
   "source": [
    "# Import Python SQL toolkit and Object Relational Mapper\n",
    "import sqlalchemy\n",
    "from sqlalchemy.ext.automap import automap_base\n",
    "from sqlalchemy.orm import Session\n",
    "from sqlalchemy import create_engine, func, text\n",
    "\n",
    "# Import and establish Base for which classes will be constructed \n",
    "from sqlalchemy.ext.declarative import declarative_base\n",
    "Base = declarative_base()\n",
    "\n",
    "# Import modules to declare columns and column data types\n",
    "from sqlalchemy import Column, Integer, String, Float, Boolean"
   ]
  },
  {
   "cell_type": "code",
   "execution_count": null,
   "metadata": {},
   "outputs": [],
   "source": [
    "# Create the Breaches class\n",
    "class Breaches(Base):\n",
    "    __tablename__ = 'data_breaches'\n",
    "    id = Column(Integer, primary_key=True)\n",
    "    organisation = Column(String(255))\n",
    "    records_lost = Column(Integer)\n",
    "    month = Column(String(255))\n",
    "    year = Column(Integer)\n",
    "    sector = Column(String(255))\n",
    "    method = Column(String(255))\n",
    "    data_sensitivity = Column(Integer)\n",
    "    story = Column(String)\t\n",
    "    source_name\t= Column(String(255))\n",
    "    source = Column(String(255))\n",
    "    link = Column(String(255))\t\n",
    "    city = Column(String(255))\t\n",
    "    country = Column(String(255))\t\n",
    "    latitude = Column(Float)\t\n",
    "    longitude = Column(Float)\t\n",
    "    coordinates = Column(String(255))\t"
   ]
  },
  {
   "cell_type": "code",
   "execution_count": null,
   "metadata": {},
   "outputs": [],
   "source": [
    "# Create Engine to data_breaches.sqlite\n",
    "engine = create_engine(\"sqlite:///../Resources/SQLite_Database/data_breaches.sqlite\")\n",
    "conn = engine.connect()"
   ]
  },
  {
   "cell_type": "code",
   "execution_count": null,
   "metadata": {},
   "outputs": [],
   "source": []
  }
 ],
 "metadata": {
  "kernelspec": {
   "display_name": "BootCamp",
   "language": "python",
   "name": "python3"
  },
  "language_info": {
   "codemirror_mode": {
    "name": "ipython",
    "version": 3
   },
   "file_extension": ".py",
   "mimetype": "text/x-python",
   "name": "python",
   "nbconvert_exporter": "python",
   "pygments_lexer": "ipython3",
   "version": "3.10.12"
  },
  "orig_nbformat": 4
 },
 "nbformat": 4,
 "nbformat_minor": 2
}
